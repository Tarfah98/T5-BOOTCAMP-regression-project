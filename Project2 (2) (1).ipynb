{
 "cells": [
  {
   "cell_type": "code",
   "execution_count": 2,
   "id": "9aa76e81",
   "metadata": {},
   "outputs": [
    {
     "name": "stdout",
     "output_type": "stream",
     "text": [
      "Requirement already satisfied: selenium in c:\\users\\x1doo\\anaconda3\\lib\\site-packages (3.141.0)\n",
      "Requirement already satisfied: urllib3 in c:\\users\\x1doo\\anaconda3\\lib\\site-packages (from selenium) (1.26.4)\n"
     ]
    }
   ],
   "source": [
    "!pip install selenium"
   ]
  },
  {
   "cell_type": "markdown",
   "id": "afdc0fcd",
   "metadata": {},
   "source": [
    "# hi"
   ]
  },
  {
   "cell_type": "code",
   "execution_count": 3,
   "id": "dda56be4",
   "metadata": {},
   "outputs": [],
   "source": [
    "from bs4 import BeautifulSoup\n",
    "import requests\n",
    "import time, os\n",
    "import pandas as pd\n",
    "import numpy as np"
   ]
  },
  {
   "cell_type": "code",
   "execution_count": 13,
   "id": "e34d4411",
   "metadata": {},
   "outputs": [],
   "source": [
    "from selenium import webdriver\n",
    "from selenium.webdriver.common.keys import Keys\n",
    "\n",
    "chromedriver = r\"C:\\ProgramData\\Microsoft\\Windows\\Start Menu\\Programs\\chromedriver_win32/chromedriver\" # path to the chromedriver executable\n",
    "os.environ[\"webdriver.chrome.driver\"] = chromedriver"
   ]
  },
  {
   "cell_type": "code",
   "execution_count": 14,
   "id": "51317242",
   "metadata": {},
   "outputs": [],
   "source": [
    "\n",
    "Boyoot = \"https://www.bayut.sa/en/riyadh-region/properties-for-sale-in-riyadh/\"\n",
    "driver = webdriver.Chrome(chromedriver)\n",
    "driver.get(Boyoot)\n",
    "time.sleep(1)\n",
    "    "
   ]
  },
  {
   "cell_type": "code",
   "execution_count": 6,
   "id": "50eb60f8",
   "metadata": {},
   "outputs": [],
   "source": [
    "driver.execute_script(\"window.scrollTo(0, document.body.scrollHeight);\")\n",
    "time.sleep(5)#sleep_between_interactions"
   ]
  },
  {
   "cell_type": "code",
   "execution_count": 8,
   "id": "1af83fa5",
   "metadata": {},
   "outputs": [],
   "source": [
    "soup = BeautifulSoup(driver.page_source, 'html.parser')"
   ]
  },
  {
   "cell_type": "code",
   "execution_count": 7,
   "id": "05e06281",
   "metadata": {},
   "outputs": [],
   "source": [
    "\n",
    "Location= soup.find_all('div', {\"class\":\"_7afabd84\"})\n",
    "prices_scraping = soup.find_all('span', {\"class\":\"f343d9ce\"})\n",
    "estate_type=soup.find_all('div',{\"class\":\"_9a4e3964\"})\n",
    "baths=soup.find_all('span',{\"aria-label\":\"Baths\"})\n",
    "rooms=soup.find_all('span',{\"aria-label\":\"Beds\"})\n",
    "Area=soup.find_all('span',{\"aria-label\":\"Area\"}) \n"
   ]
  },
  {
   "cell_type": "code",
   "execution_count": 8,
   "id": "e2172ad7",
   "metadata": {},
   "outputs": [],
   "source": [
    "import re"
   ]
  },
  {
   "cell_type": "code",
   "execution_count": 89,
   "id": "e31e040b",
   "metadata": {},
   "outputs": [],
   "source": [
    "neighborhood =[]\n",
    "direction=[]\n",
    "region=[]\n",
    "prices=[]\n",
    "EstateType=[]\n",
    "square_feet=[]\n",
    "rooms_number=[]\n",
    "baths_number=[]\n",
    "p=1\n",
    "while True:\n",
    "    \n",
    "    if p==1:\n",
    "        url=\"https://www.bayut.sa/en/riyadh-region/properties-for-sale-in-riyadh/\"\n",
    "    else:\n",
    "        url=f\"https://www.bayut.sa/en/riyadh-region/properties-for-sale-in-riyadh/page-{p}/\"\n",
    "    driver.get(url)\n",
    "    soup = BeautifulSoup(driver.page_source, 'html.parser')\n",
    "    a=soup.find_all(\"div\",{\"class\":\"d6e81fd0\"})\n",
    "    \n",
    "    \n",
    "    for item in a:\n",
    "        \n",
    "        Location= item.find('div', {\"class\":\"_7afabd84\"})\n",
    "        prices_scraping = item.find('span', {\"class\":\"f343d9ce\"})\n",
    "        estate_type=item.find('div',{\"class\":\"_9a4e3964\"})\n",
    "        baths=item.find('span',{\"aria-label\":\"Baths\"})\n",
    "        rooms=item.find('span',{\"aria-label\":\"Beds\"})\n",
    "        Area=item.find('span',{\"aria-label\":\"Area\"}) \n",
    "\n",
    "        EstateType.append(estate_type.text)\n",
    "        try:\n",
    "            prices.append(prices_scraping.text)\n",
    "        except:\n",
    "            prices.append(np.nan)\n",
    "            \n",
    "            \n",
    "        try:\n",
    "           \n",
    "            baths_number.append(baths.text)\n",
    "            rooms_number.append(rooms.text)\n",
    "\n",
    "        except:\n",
    "            baths_number.append(np.nan)\n",
    "            rooms_number.append(np.nan)\n",
    "            \n",
    "        try:\n",
    "            square_feet.append(Area.text.replace(' Sq. M.',''))\n",
    "        except:\n",
    "            square_feet.append(np.nan)\n",
    "        L=Location.text\n",
    "        split_location=L.split(',')\n",
    "        try:\n",
    "            if len(split_location)==4:\n",
    "                neighborhood.append(split_location[0])\n",
    "                direction.append(split_location[1])\n",
    "                region.append(split_location[2])\n",
    "            else:\n",
    "                neighborhood.append(split_location[1])\n",
    "                direction.append(split_location[2])\n",
    "                region.append(split_location[3])\n",
    "        except:\n",
    "            continue\n",
    "\n",
    "\n",
    "    p+=1\n",
    "    if p==90:\n",
    "        break;\n",
    "    "
   ]
  },
  {
   "cell_type": "code",
   "execution_count": 90,
   "id": "d899215d",
   "metadata": {},
   "outputs": [
    {
     "data": {
      "text/html": [
       "<div>\n",
       "<style scoped>\n",
       "    .dataframe tbody tr th:only-of-type {\n",
       "        vertical-align: middle;\n",
       "    }\n",
       "\n",
       "    .dataframe tbody tr th {\n",
       "        vertical-align: top;\n",
       "    }\n",
       "\n",
       "    .dataframe thead th {\n",
       "        text-align: right;\n",
       "    }\n",
       "</style>\n",
       "<table border=\"1\" class=\"dataframe\">\n",
       "  <thead>\n",
       "    <tr style=\"text-align: right;\">\n",
       "      <th></th>\n",
       "      <th>neighborhood</th>\n",
       "      <th>direction</th>\n",
       "      <th>region</th>\n",
       "      <th>RealEstateType</th>\n",
       "      <th>square_feet</th>\n",
       "      <th>rooms_number</th>\n",
       "      <th>baths_number</th>\n",
       "      <th>prices</th>\n",
       "    </tr>\n",
       "  </thead>\n",
       "  <tbody>\n",
       "    <tr>\n",
       "      <th>0</th>\n",
       "      <td>Al Ghadir</td>\n",
       "      <td>North Riyadh</td>\n",
       "      <td>Riyadh</td>\n",
       "      <td>Residential Building</td>\n",
       "      <td>1,225</td>\n",
       "      <td>NaN</td>\n",
       "      <td>NaN</td>\n",
       "      <td>33,000,000</td>\n",
       "    </tr>\n",
       "    <tr>\n",
       "      <th>1</th>\n",
       "      <td>Al Narjis</td>\n",
       "      <td>North Riyadh</td>\n",
       "      <td>Riyadh</td>\n",
       "      <td>Villa</td>\n",
       "      <td>660</td>\n",
       "      <td>4</td>\n",
       "      <td>5</td>\n",
       "      <td>5,200,000</td>\n",
       "    </tr>\n",
       "    <tr>\n",
       "      <th>2</th>\n",
       "      <td>Al Qirawan</td>\n",
       "      <td>North Riyadh</td>\n",
       "      <td>Riyadh</td>\n",
       "      <td>Villa</td>\n",
       "      <td>718</td>\n",
       "      <td>6</td>\n",
       "      <td>8</td>\n",
       "      <td>6,300,000</td>\n",
       "    </tr>\n",
       "    <tr>\n",
       "      <th>3</th>\n",
       "      <td>Al Nuzhah</td>\n",
       "      <td>North Riyadh</td>\n",
       "      <td>Riyadh</td>\n",
       "      <td>Villa</td>\n",
       "      <td>450</td>\n",
       "      <td>4</td>\n",
       "      <td>5</td>\n",
       "      <td>2,500,000</td>\n",
       "    </tr>\n",
       "    <tr>\n",
       "      <th>4</th>\n",
       "      <td>Al Rabi</td>\n",
       "      <td>North Riyadh</td>\n",
       "      <td>Riyadh</td>\n",
       "      <td>Villa</td>\n",
       "      <td>550</td>\n",
       "      <td>4</td>\n",
       "      <td>5</td>\n",
       "      <td>3,300,000</td>\n",
       "    </tr>\n",
       "    <tr>\n",
       "      <th>...</th>\n",
       "      <td>...</td>\n",
       "      <td>...</td>\n",
       "      <td>...</td>\n",
       "      <td>...</td>\n",
       "      <td>...</td>\n",
       "      <td>...</td>\n",
       "      <td>...</td>\n",
       "      <td>...</td>\n",
       "    </tr>\n",
       "    <tr>\n",
       "      <th>2125</th>\n",
       "      <td>Laban</td>\n",
       "      <td>North Riyadh</td>\n",
       "      <td>Riyadh</td>\n",
       "      <td>Villa</td>\n",
       "      <td>450</td>\n",
       "      <td>4</td>\n",
       "      <td>6</td>\n",
       "      <td>1,700,000</td>\n",
       "    </tr>\n",
       "    <tr>\n",
       "      <th>2126</th>\n",
       "      <td>Al Mohammadiyah</td>\n",
       "      <td>North Riyadh</td>\n",
       "      <td>Riyadh</td>\n",
       "      <td>Villa</td>\n",
       "      <td>324</td>\n",
       "      <td>4</td>\n",
       "      <td>NaN</td>\n",
       "      <td>2,950,000</td>\n",
       "    </tr>\n",
       "    <tr>\n",
       "      <th>2127</th>\n",
       "      <td>Al Ghadir</td>\n",
       "      <td>West Riyadh</td>\n",
       "      <td>Riyadh</td>\n",
       "      <td>Residential Building</td>\n",
       "      <td>1,200</td>\n",
       "      <td>NaN</td>\n",
       "      <td>6</td>\n",
       "      <td>15,000,000</td>\n",
       "    </tr>\n",
       "    <tr>\n",
       "      <th>2128</th>\n",
       "      <td>Dhahrat Laban</td>\n",
       "      <td>North Riyadh</td>\n",
       "      <td>Riyadh</td>\n",
       "      <td>Apartment</td>\n",
       "      <td>125</td>\n",
       "      <td>3</td>\n",
       "      <td>3</td>\n",
       "      <td>395,000</td>\n",
       "    </tr>\n",
       "    <tr>\n",
       "      <th>2129</th>\n",
       "      <td>Al Nuzhah</td>\n",
       "      <td>Central Riyadh</td>\n",
       "      <td>Riyadh</td>\n",
       "      <td>Residential Building</td>\n",
       "      <td>2,088</td>\n",
       "      <td>3</td>\n",
       "      <td>7</td>\n",
       "      <td>NaN</td>\n",
       "    </tr>\n",
       "  </tbody>\n",
       "</table>\n",
       "<p>2130 rows × 8 columns</p>\n",
       "</div>"
      ],
      "text/plain": [
       "         neighborhood        direction   region        RealEstateType  \\\n",
       "0           Al Ghadir     North Riyadh   Riyadh  Residential Building   \n",
       "1           Al Narjis     North Riyadh   Riyadh                 Villa   \n",
       "2          Al Qirawan     North Riyadh   Riyadh                 Villa   \n",
       "3           Al Nuzhah     North Riyadh   Riyadh                 Villa   \n",
       "4             Al Rabi     North Riyadh   Riyadh                 Villa   \n",
       "...               ...              ...      ...                   ...   \n",
       "2125            Laban     North Riyadh   Riyadh                 Villa   \n",
       "2126  Al Mohammadiyah     North Riyadh   Riyadh                 Villa   \n",
       "2127        Al Ghadir      West Riyadh   Riyadh  Residential Building   \n",
       "2128    Dhahrat Laban     North Riyadh   Riyadh             Apartment   \n",
       "2129        Al Nuzhah   Central Riyadh   Riyadh  Residential Building   \n",
       "\n",
       "     square_feet rooms_number baths_number      prices  \n",
       "0          1,225          NaN          NaN  33,000,000  \n",
       "1            660            4            5   5,200,000  \n",
       "2            718            6            8   6,300,000  \n",
       "3            450            4            5   2,500,000  \n",
       "4            550            4            5   3,300,000  \n",
       "...          ...          ...          ...         ...  \n",
       "2125         450            4            6   1,700,000  \n",
       "2126         324            4          NaN   2,950,000  \n",
       "2127       1,200          NaN            6  15,000,000  \n",
       "2128         125            3            3     395,000  \n",
       "2129       2,088            3            7         NaN  \n",
       "\n",
       "[2130 rows x 8 columns]"
      ]
     },
     "execution_count": 90,
     "metadata": {},
     "output_type": "execute_result"
    }
   ],
   "source": [
    "df = pd.DataFrame(list(zip(neighborhood, direction,region,EstateType,square_feet, rooms_number, baths_number,prices )),\n",
    "               columns =['neighborhood', 'direction','region','RealEstateType','square_feet', 'rooms_number', 'baths_number','prices'])\n",
    "df"
   ]
  },
  {
   "cell_type": "code",
   "execution_count": 110,
   "id": "528ceeec",
   "metadata": {},
   "outputs": [],
   "source": [
    "df.to_csv(r\"C:\\Users\\x1doo\\OneDrive\\Documents\\realstate.csv\", sep=',')"
   ]
  },
  {
   "cell_type": "code",
   "execution_count": 106,
   "id": "21cf4eeb",
   "metadata": {},
   "outputs": [],
   "source": [
    "df.prices.dropna(how='any', inplace=True)\n"
   ]
  },
  {
   "cell_type": "code",
   "execution_count": 103,
   "id": "60fa579c",
   "metadata": {},
   "outputs": [
    {
     "data": {
      "text/plain": [
       "False    2003\n",
       "True      127\n",
       "Name: prices, dtype: int64"
      ]
     },
     "execution_count": 103,
     "metadata": {},
     "output_type": "execute_result"
    }
   ],
   "source": [
    "df.prices.isna().value_counts()"
   ]
  },
  {
   "cell_type": "code",
   "execution_count": 108,
   "id": "cf856cb3",
   "metadata": {},
   "outputs": [],
   "source": [
    "df.square_feet.dropna(inplace=True)"
   ]
  },
  {
   "cell_type": "code",
   "execution_count": 56,
   "id": "8c4a890a",
   "metadata": {},
   "outputs": [
    {
     "data": {
      "text/plain": [
       "Villa                   1800\n",
       "Apartment                218\n",
       "Residential Land         144\n",
       "Residential Building      95\n",
       "Floor                     60\n",
       "Palace                    30\n",
       "Rest House                14\n",
       "Hotel Apartment            5\n",
       "Chalet                     3\n",
       "Name: RealEstateType, dtype: int64"
      ]
     },
     "execution_count": 56,
     "metadata": {},
     "output_type": "execute_result"
    }
   ],
   "source": [
    "df[\"RealEstateType\"].value_counts()"
   ]
  },
  {
   "cell_type": "code",
   "execution_count": 111,
   "id": "da78cbac",
   "metadata": {},
   "outputs": [
    {
     "name": "stdout",
     "output_type": "stream",
     "text": [
      "<class 'pandas.core.frame.DataFrame'>\n",
      "RangeIndex: 2130 entries, 0 to 2129\n",
      "Data columns (total 8 columns):\n",
      " #   Column          Non-Null Count  Dtype \n",
      "---  ------          --------------  ----- \n",
      " 0   neighborhood    2130 non-null   object\n",
      " 1   direction       2130 non-null   object\n",
      " 2   region          2130 non-null   object\n",
      " 3   RealEstateType  2130 non-null   object\n",
      " 4   square_feet     2123 non-null   object\n",
      " 5   rooms_number    1465 non-null   object\n",
      " 6   baths_number    1466 non-null   object\n",
      " 7   prices          2003 non-null   object\n",
      "dtypes: object(8)\n",
      "memory usage: 133.2+ KB\n"
     ]
    }
   ],
   "source": [
    "df.info()"
   ]
  },
  {
   "cell_type": "code",
   "execution_count": null,
   "id": "9bf79729",
   "metadata": {},
   "outputs": [],
   "source": []
  }
 ],
 "metadata": {
  "kernelspec": {
   "display_name": "Python 3",
   "language": "python",
   "name": "python3"
  },
  "language_info": {
   "codemirror_mode": {
    "name": "ipython",
    "version": 3
   },
   "file_extension": ".py",
   "mimetype": "text/x-python",
   "name": "python",
   "nbconvert_exporter": "python",
   "pygments_lexer": "ipython3",
   "version": "3.8.8"
  }
 },
 "nbformat": 4,
 "nbformat_minor": 5
}
